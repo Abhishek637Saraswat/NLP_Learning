{
 "cells": [
  {
   "cell_type": "code",
   "execution_count": 1,
   "id": "a6f2f15a-1a2f-40b9-bcdf-27506393c8b5",
   "metadata": {},
   "outputs": [],
   "source": [
    "import re"
   ]
  },
  {
   "cell_type": "code",
   "execution_count": 3,
   "id": "060d81ba-e159-4a5b-a6f7-4f7cd8b98127",
   "metadata": {},
   "outputs": [
    {
     "data": {
      "text/plain": [
       "['412889912']"
      ]
     },
     "execution_count": 3,
     "metadata": {},
     "output_type": "execute_result"
    }
   ],
   "source": [
    "chat1='codebasics: Hello, I am having an issue with my order # 412889912'\n",
    "pattern = 'order[^\\d]*(\\d*)'\n",
    "matches = re.findall(pattern, chat1)\n",
    "matches"
   ]
  },
  {
   "cell_type": "markdown",
   "id": "e734c568-d60f-4e6c-9c54-23e14db6a52e",
   "metadata": {},
   "source": [
    "Retrieve email id and phone"
   ]
  },
  {
   "cell_type": "code",
   "execution_count": 11,
   "id": "8fab7b60-ba49-4b44-84cb-c6767f757853",
   "metadata": {},
   "outputs": [],
   "source": [
    "chat1 = 'codebasics: you ask lot of questions 😠  1235678912, asxbbc@xyz.com'\n",
    "chat2 = 'codebasics: here it is: (123)-567-8912, abc-cec@xyz.com'\n",
    "chat3 = 'codebasics: yes, phone: 1235678912 email: abc@xyz.com'"
   ]
  },
  {
   "cell_type": "markdown",
   "id": "a11ef604-abab-428f-9755-16239f38ba5c",
   "metadata": {},
   "source": [
    "Email Id"
   ]
  },
  {
   "cell_type": "code",
   "execution_count": 12,
   "id": "6dd7ea46-1975-432d-aab1-223b1782a6b2",
   "metadata": {},
   "outputs": [
    {
     "data": {
      "text/plain": [
       "['asxbbc@xyz.com']"
      ]
     },
     "execution_count": 12,
     "metadata": {},
     "output_type": "execute_result"
    }
   ],
   "source": [
    "pattern =\"[a-zA-Z1-9-.]*@[a-zA-Z.]*\"\n",
    "matches = re.findall(pattern, chat1)\n",
    "matches"
   ]
  },
  {
   "cell_type": "code",
   "execution_count": 13,
   "id": "a1125a99-3ca4-4960-96b1-0243c6794565",
   "metadata": {},
   "outputs": [
    {
     "data": {
      "text/plain": [
       "['abc-cec@xyz.com']"
      ]
     },
     "execution_count": 13,
     "metadata": {},
     "output_type": "execute_result"
    }
   ],
   "source": [
    "pattern =\"[a-zA-Z1-9-.]*@[a-zA-Z.]*\"\n",
    "matches = re.findall(pattern, chat2)\n",
    "matches"
   ]
  },
  {
   "cell_type": "code",
   "execution_count": 14,
   "id": "3c7e0697-c640-448e-98b3-585c9aa50559",
   "metadata": {},
   "outputs": [
    {
     "data": {
      "text/plain": [
       "['abc@xyz.com']"
      ]
     },
     "execution_count": 14,
     "metadata": {},
     "output_type": "execute_result"
    }
   ],
   "source": [
    "pattern =\"[a-zA-Z1-9-.]*@[a-zA-Z.]*\"\n",
    "matches = re.findall(pattern, chat3)\n",
    "matches"
   ]
  },
  {
   "cell_type": "markdown",
   "id": "43de8ab7-34c5-4e0a-9535-5eff52e98884",
   "metadata": {},
   "source": [
    "Phone Number"
   ]
  },
  {
   "cell_type": "code",
   "execution_count": 24,
   "id": "0dd3fedc-59e5-4688-82b6-dc3d360aa571",
   "metadata": {},
   "outputs": [],
   "source": [
    "pattern1 = '(\\d{10})|(\\(\\d{3}\\)-\\d{3}-\\d{4})'"
   ]
  },
  {
   "cell_type": "code",
   "execution_count": 25,
   "id": "604ca70a-758e-4811-adec-7529ad004506",
   "metadata": {},
   "outputs": [
    {
     "data": {
      "text/plain": [
       "[('1235678912', '')]"
      ]
     },
     "execution_count": 25,
     "metadata": {},
     "output_type": "execute_result"
    }
   ],
   "source": [
    "\n",
    "matches = re.findall(pattern1, chat1)\n",
    "matches"
   ]
  },
  {
   "cell_type": "code",
   "execution_count": 26,
   "id": "5e841b8a-a87f-47d4-badc-14f608438496",
   "metadata": {},
   "outputs": [
    {
     "data": {
      "text/plain": [
       "[('', '(123)-567-8912')]"
      ]
     },
     "execution_count": 26,
     "metadata": {},
     "output_type": "execute_result"
    }
   ],
   "source": [
    "matches = re.findall(pattern1, chat2)\n",
    "matches"
   ]
  },
  {
   "cell_type": "code",
   "execution_count": 27,
   "id": "bea3a8d4-5e6b-4422-8a0f-18984d874ef2",
   "metadata": {},
   "outputs": [
    {
     "data": {
      "text/plain": [
       "[('1235678912', '')]"
      ]
     },
     "execution_count": 27,
     "metadata": {},
     "output_type": "execute_result"
    }
   ],
   "source": [
    "matches = re.findall(pattern1, chat3)\n",
    "matches"
   ]
  },
  {
   "cell_type": "markdown",
   "id": "84edf631-5a5f-4d73-85c4-9849f1cf3f18",
   "metadata": {},
   "source": [
    "(2) Regex for Information Extraction"
   ]
  },
  {
   "cell_type": "code",
   "execution_count": 31,
   "id": "14723a50-0cf9-4ce7-8bf1-92ba15a5b330",
   "metadata": {},
   "outputs": [],
   "source": [
    "text='''\n",
    "Born\tElon Reeve Musk\n",
    "June 28, 1971 (age 50)\n",
    "Pretoria, Transvaal, South Africa\n",
    "Citizenship\t\n",
    "South Africa (1971–present)\n",
    "Canada (1971–present)\n",
    "United States (2002–present)\n",
    "Education\tUniversity of Pennsylvania (BS, BA)\n",
    "Title\t\n",
    "Founder, CEO and Chief Engineer of SpaceX\n",
    "CEO and product architect of Tesla, Inc.\n",
    "Founder of The Boring Company and X.com (now part of PayPal)\n",
    "Co-founder of Neuralink, OpenAI, and Zip2\n",
    "Spouse(s)\t\n",
    "Justine Wilson\n",
    "​\n",
    "​(m. 2000; div. 2008)​\n",
    "Talulah Riley\n",
    "​\n",
    "​(m. 2010; div. 2012)​\n",
    "​\n",
    "​(m. 2013; div. 2016)\n",
    "'''"
   ]
  },
  {
   "cell_type": "code",
   "execution_count": 46,
   "id": "b7f0a23d-5b00-4a3a-9405-89a10d5d4e01",
   "metadata": {},
   "outputs": [],
   "source": [
    "name_pattern = 'Born[^A-Za-z]([A-Za-z ]*)'\n",
    "age_pattern = 'age (\\d*)'\n",
    "dob_pattern = '([A-Za-z]*[^A-Za-z]*\\d*)[^A-Za-z1-9]*\\(age'\n",
    "place_pattern ='age [^A-Za-z]*([A-Za-z, ]*)'\n",
    "def Extract_info(text):\n",
    "    name = re.findall(name_pattern,text)[0]\n",
    "    age = int(re.findall(age_pattern,text)[0])\n",
    "    dob = re.findall(dob_pattern,text)[0].strip()\n",
    "    place = re.findall(place_pattern,text)[0]\n",
    "    return {\n",
    "    'name' : name,\n",
    "    'age' : age,\n",
    "    'dob' : dob,\n",
    "    'place' : place\n",
    "    }"
   ]
  },
  {
   "cell_type": "code",
   "execution_count": 47,
   "id": "c9b7946f-7bc7-437e-ba38-76bcec7314ad",
   "metadata": {},
   "outputs": [
    {
     "data": {
      "text/plain": [
       "{'name': 'Elon Reeve Musk',\n",
       " 'age': 50,\n",
       " 'dob': 'June 28, 1971',\n",
       " 'place': 'Pretoria, Transvaal, South Africa'}"
      ]
     },
     "execution_count": 47,
     "metadata": {},
     "output_type": "execute_result"
    }
   ],
   "source": [
    "Extract_info(text)"
   ]
  },
  {
   "cell_type": "code",
   "execution_count": 48,
   "id": "1324c222-8ba9-4901-8afe-fa6ea0016e43",
   "metadata": {},
   "outputs": [],
   "source": [
    "text1 = '''\n",
    "Born\tMukesh Dhirubhai Ambani\n",
    "19 April 1957 (age 64)\n",
    "Aden, Colony of Aden\n",
    "(present-day Yemen)[1][2]\n",
    "Nationality\tIndian\n",
    "Alma mater\t\n",
    "St. Xavier's College, Mumbai\n",
    "Institute of Chemical Technology (B.E.)\n",
    "Stanford University (drop-out)\n",
    "Occupation\tChairman and MD, Reliance Industries\n",
    "Spouse(s)\tNita Ambani ​(m. 1985)​[3]\n",
    "Children\t3\n",
    "Parent(s)\t\n",
    "Dhirubhai Ambani (father)\n",
    "Kokilaben Ambani (mother)\n",
    "Relatives\tAnil Ambani (brother)\n",
    "Tina Ambani (sister-in-law)\n",
    "'''"
   ]
  },
  {
   "cell_type": "code",
   "execution_count": 49,
   "id": "17fd866a-700b-4175-9264-dcfb015c9617",
   "metadata": {},
   "outputs": [
    {
     "data": {
      "text/plain": [
       "{'name': 'Mukesh Dhirubhai Ambani',\n",
       " 'age': 64,\n",
       " 'dob': 'April 1957',\n",
       " 'place': 'Aden, Colony of Aden'}"
      ]
     },
     "execution_count": 49,
     "metadata": {},
     "output_type": "execute_result"
    }
   ],
   "source": [
    "Extract_info(text1)"
   ]
  },
  {
   "cell_type": "markdown",
   "id": "4381800c-3082-4ea4-961a-05d4e41651e9",
   "metadata": {},
   "source": [
    "1. Extract all twitter handles from following text. Twitter handle is the text that appears after https://twitter.com/ and is a single word. Also it contains only alpha numeric characters i.e. A-Z a-z , o to 9 and underscore _"
   ]
  },
  {
   "cell_type": "code",
   "execution_count": 50,
   "id": "2c437384-41d6-4620-94f7-466fcb612dc0",
   "metadata": {},
   "outputs": [
    {
     "data": {
      "text/plain": [
       "['elonmusk', '', 'teslarati', 'dummy_tesla', 'dummy_2_tesla']"
      ]
     },
     "execution_count": 50,
     "metadata": {},
     "output_type": "execute_result"
    }
   ],
   "source": [
    "text = '''\n",
    "Follow our leader Elon musk on twitter here: https://twitter.com/elonmusk, more information \n",
    "on Tesla's products can be found at https://www.tesla.com/. Also here are leading influencers \n",
    "for tesla related news,\n",
    "https://twitter.com/teslarati\n",
    "https://twitter.com/dummy_tesla\n",
    "https://twitter.com/dummy_2_tesla\n",
    "'''\n",
    "pattern = '.com\\/([A-Za-z1-9_-]*)' # todo: type your regex here\n",
    "\n",
    "re.findall(pattern, text)"
   ]
  },
  {
   "cell_type": "markdown",
   "id": "49fa1c37-1388-43aa-a4c9-93a7f38380f5",
   "metadata": {},
   "source": [
    "2. Extract Concentration Risk Types. It will be a text that appears after \"Concentration Risk:\", In below example, your regex should extract these two strings\n",
    "\n",
    "(1) Credit Risk\n",
    "\n",
    "(2) Supply Rish"
   ]
  },
  {
   "cell_type": "code",
   "execution_count": 51,
   "id": "13001c4f-7012-4de5-8443-c88c2caf48fd",
   "metadata": {},
   "outputs": [
    {
     "data": {
      "text/plain": [
       "[' Credit Risk', ' Supply Risk']"
      ]
     },
     "execution_count": 51,
     "metadata": {},
     "output_type": "execute_result"
    }
   ],
   "source": [
    "text = '''\n",
    "Concentration of Risk: Credit Risk\n",
    "Financial instruments that potentially subject us to a concentration of credit risk consist of cash, cash equivalents, marketable securities,\n",
    "restricted cash, accounts receivable, convertible note hedges, and interest rate swaps. Our cash balances are primarily invested in money market funds\n",
    "or on deposit at high credit quality financial institutions in the U.S. These deposits are typically in excess of insured limits. As of September 30, 2021\n",
    "and December 31, 2020, no entity represented 10% or more of our total accounts receivable balance. The risk of concentration for our convertible note\n",
    "hedges and interest rate swaps is mitigated by transacting with several highly-rated multinational banks.\n",
    "Concentration of Risk: Supply Risk\n",
    "We are dependent on our suppliers, including single source suppliers, and the inability of these suppliers to deliver necessary components of our\n",
    "products in a timely manner at prices, quality levels and volumes acceptable to us, or our inability to efficiently manage these components from these\n",
    "suppliers, could have a material adverse effect on our business, prospects, financial condition and operating results.\n",
    "'''\n",
    "pattern = 'Concentration of Risk:([A-Za-z ]*)' # todo: type your regex here\n",
    "\n",
    "re.findall(pattern, text)"
   ]
  },
  {
   "cell_type": "markdown",
   "id": "74e6082b-9fc5-421f-b182-c6ebf7b62c7e",
   "metadata": {},
   "source": [
    "3. Companies in europe reports their financial numbers of semi annual basis and you can have a document like this. To exatract quarterly and semin annual period you can use a regex as shown below\n",
    "\n",
    "Hint: you need to use (?:) here to match everything enclosed"
   ]
  },
  {
   "cell_type": "code",
   "execution_count": 52,
   "id": "eb81ce1f-5991-44d3-853f-872aab07108b",
   "metadata": {},
   "outputs": [
    {
     "data": {
      "text/plain": [
       "['2021 Q1', '2021 S1']"
      ]
     },
     "execution_count": 52,
     "metadata": {},
     "output_type": "execute_result"
    }
   ],
   "source": [
    "text = '''\n",
    "Tesla's gross cost of operating lease vehicles in FY2021 Q1 was $4.85 billion.\n",
    "BMW's gross cost of operating vehicles in FY2021 S1 was $8 billion.\n",
    "'''\n",
    "\n",
    "pattern = 'FY(\\d{4} (?:Q[1-4]|S[1-2]))' # todo: type your regex here\n",
    "matches = re.findall(pattern, text)\n",
    "matches"
   ]
  },
  {
   "cell_type": "code",
   "execution_count": null,
   "id": "56c81f15-7590-4a2c-be5b-8db230514f3f",
   "metadata": {},
   "outputs": [],
   "source": []
  }
 ],
 "metadata": {
  "kernelspec": {
   "display_name": "Python 3 (ipykernel)",
   "language": "python",
   "name": "python3"
  },
  "language_info": {
   "codemirror_mode": {
    "name": "ipython",
    "version": 3
   },
   "file_extension": ".py",
   "mimetype": "text/x-python",
   "name": "python",
   "nbconvert_exporter": "python",
   "pygments_lexer": "ipython3",
   "version": "3.11.7"
  }
 },
 "nbformat": 4,
 "nbformat_minor": 5
}
